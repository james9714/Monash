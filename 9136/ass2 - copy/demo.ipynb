{
 "cells": [
  {
   "cell_type": "code",
   "execution_count": 31,
   "metadata": {},
   "outputs": [
    {
     "name": "stdout",
     "output_type": "stream",
     "text": [
      "First time: 7\n",
      "duplicate: 7\n",
      "duplicate: 1\n",
      "duplicate: 9\n",
      "duplicate: 7\n",
      "final id 6\n"
     ]
    }
   ],
   "source": [
    "import random\n",
    "\n",
    "list = [1,2,3,5,7,9]\n",
    "id = random.randint(0,10)\n",
    "print(f\"First time: {id}\")\n",
    "while id in list:\n",
    "    print(f'duplicate: {id}')\n",
    "    id = random.randint(0,10)\n",
    "print(f'final id {id}')"
   ]
  },
  {
   "cell_type": "code",
   "execution_count": 1,
   "metadata": {},
   "outputs": [],
   "source": [
    "with open('./Assignment 2 Template  Data/data/stock.txt') as f:\n",
    "    data = f.readlines()\n",
    "data = [x.strip().split(', ') for x in data]\n",
    "for line in data:\n",
    "    line_id = line[0]\n",
    "    if int(line_id) == 22927521:\n",
    "        temp_list = eval(', '.join(line[6:]))\n",
    "        temp_list = [x for x in temp_list if x.split(',')[0]!='PX101073']\n",
    "        line[6:] = str(temp_list).split(', ')\n",
    "with open('./Assignment 2 Template  Data/data/stock copy.txt', 'w') as f:\n",
    "    for line in data:\n",
    "        f.write(', '.join(line)+'\\n')"
   ]
  },
  {
   "cell_type": "code",
   "execution_count": 10,
   "metadata": {},
   "outputs": [
    {
     "ename": "FileNotFoundError",
     "evalue": "[Errno 2] No such file or directory: 'ass2 - copy/Assignment 2 Template  Data/data/stock.txt'",
     "output_type": "error",
     "traceback": [
      "\u001b[1;31m---------------------------------------------------------------------------\u001b[0m",
      "\u001b[1;31mFileNotFoundError\u001b[0m                         Traceback (most recent call last)",
      "\u001b[1;32m~\\AppData\\Local\\Temp\\ipykernel_65528\\1342285081.py\u001b[0m in \u001b[0;36m<module>\u001b[1;34m\u001b[0m\n\u001b[1;32m----> 1\u001b[1;33m \u001b[1;32mwith\u001b[0m \u001b[0mopen\u001b[0m\u001b[1;33m(\u001b[0m\u001b[1;34m'ass2 - copy/Assignment 2 Template  Data/data/stock.txt'\u001b[0m\u001b[1;33m)\u001b[0m \u001b[1;32mas\u001b[0m \u001b[0mf\u001b[0m\u001b[1;33m:\u001b[0m\u001b[1;33m\u001b[0m\u001b[1;33m\u001b[0m\u001b[0m\n\u001b[0m\u001b[0;32m      2\u001b[0m     \u001b[0mdata\u001b[0m \u001b[1;33m=\u001b[0m \u001b[0mf\u001b[0m\u001b[1;33m.\u001b[0m\u001b[0mreadlines\u001b[0m\u001b[1;33m(\u001b[0m\u001b[1;33m)\u001b[0m\u001b[1;33m\u001b[0m\u001b[1;33m\u001b[0m\u001b[0m\n\u001b[0;32m      3\u001b[0m \u001b[0mdata\u001b[0m \u001b[1;33m=\u001b[0m \u001b[1;33m[\u001b[0m\u001b[0mx\u001b[0m\u001b[1;33m.\u001b[0m\u001b[0mstrip\u001b[0m\u001b[1;33m(\u001b[0m\u001b[1;33m)\u001b[0m\u001b[1;33m.\u001b[0m\u001b[0msplit\u001b[0m\u001b[1;33m(\u001b[0m\u001b[1;34m', '\u001b[0m\u001b[1;33m)\u001b[0m \u001b[1;32mfor\u001b[0m \u001b[0mx\u001b[0m \u001b[1;32min\u001b[0m \u001b[0mdata\u001b[0m\u001b[1;33m]\u001b[0m\u001b[1;33m\u001b[0m\u001b[1;33m\u001b[0m\u001b[0m\n\u001b[0;32m      4\u001b[0m \u001b[1;32mfor\u001b[0m \u001b[0mline\u001b[0m \u001b[1;32min\u001b[0m \u001b[0mdata\u001b[0m\u001b[1;33m:\u001b[0m\u001b[1;33m\u001b[0m\u001b[1;33m\u001b[0m\u001b[0m\n\u001b[0;32m      5\u001b[0m     \u001b[0mprint\u001b[0m\u001b[1;33m(\u001b[0m\u001b[0mline\u001b[0m\u001b[1;33m[\u001b[0m\u001b[1;36m0\u001b[0m\u001b[1;33m]\u001b[0m\u001b[1;33m)\u001b[0m\u001b[1;33m\u001b[0m\u001b[1;33m\u001b[0m\u001b[0m\n",
      "\u001b[1;31mFileNotFoundError\u001b[0m: [Errno 2] No such file or directory: 'ass2 - copy/Assignment 2 Template  Data/data/stock.txt'"
     ]
    }
   ],
   "source": [
    "with open('ass2 - copy/Assignment 2 Template  Data/data/stock.txt') as f:\n",
    "    data = f.readlines()\n",
    "data = [x.strip().split(', ') for x in data]\n",
    "for line in data:\n",
    "    print(line[0])\n",
    "    print(','.join(line[6:]))"
   ]
  }
 ],
 "metadata": {
  "kernelspec": {
   "display_name": "monash",
   "language": "python",
   "name": "python3"
  },
  "language_info": {
   "codemirror_mode": {
    "name": "ipython",
    "version": 3
   },
   "file_extension": ".py",
   "mimetype": "text/x-python",
   "name": "python",
   "nbconvert_exporter": "python",
   "pygments_lexer": "ipython3",
   "version": "3.7.16"
  },
  "orig_nbformat": 4
 },
 "nbformat": 4,
 "nbformat_minor": 2
}
