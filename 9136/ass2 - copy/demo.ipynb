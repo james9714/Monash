{
 "cells": [
  {
   "cell_type": "code",
   "execution_count": 5,
   "metadata": {},
   "outputs": [
    {
     "name": "stdout",
     "output_type": "stream",
     "text": [
      "My name is crifan\n",
      "name within class Person is actually the global name: whole global name\n",
      "only access Person's name via Person.name=class global name\n",
      "whole global name is whole global name\n"
     ]
    }
   ],
   "source": [
    "#!/usr/bin/python\n",
    "# -*- coding: utf-8 -*-\n",
    "\"\"\"\n",
    "-------------------------------------------------------------------------------\n",
    "Function:\n",
    "【整理】Python中：self和init__的含义 + 为何要有self和__init__\n",
    "https://www.crifan.com/summary_the_meaning_of_self_and___init___in_python_and_why_need_them\n",
    "  \n",
    "Author:     Crifan\n",
    "Verison:    2012-11-27\n",
    "-------------------------------------------------------------------------------\n",
    "\"\"\"\n",
    "  \n",
    "#注：此处全局的变量名，写成name，只是为了演示而用\n",
    "#实际上，好的编程风格，应该写成gName之类的名字，以表示该变量是Global的变量\n",
    "name = \"whole global name\";\n",
    "  \n",
    "class Person:\n",
    "    name = \"class global name\"\n",
    "  \n",
    "    def __init__(self, newPersionName):\n",
    "        #self.name = newPersionName;\n",
    "          \n",
    "        #此处，没有使用self.name\n",
    "        #而使得此处的name，实际上仍是局部变量name\n",
    "        #虽然此处赋值了，但是后面没有被利用到，属于被浪费了的局部变量name\n",
    "        name = newPersionName;\n",
    "  \n",
    "    def sayYourName(self):\n",
    "        #此处，之所以没有像之前一样出现：\n",
    "        #AttributeError: Person instance has no attribute 'name'\n",
    "        #那是因为，虽然当前的实例self中，没有在__init__中初始化对应的name变量，实例self中没有对应的name变量\n",
    "        #但是由于实例所对应的类Person，有对应的name变量,所以也是可以正常执行代码的\n",
    "        #对应的，此处的self.name，实际上是Person.name\n",
    "        print (f'My name is {self.name}') # -> class global name\n",
    "        print (f'name within class Person is actually the global name: {name}'); #-> whole global name\n",
    "        print (f\"only access Person's name via Person.name={Person.name}\"); # -> class global name\n",
    "  \n",
    "def selfAndInitDemo():\n",
    "    persionInstance = Person(\"crifan\");\n",
    "    persionInstance.sayYourName();\n",
    "    print (f\"whole global name is {name}\"); # -> whole global name\n",
    "      \n",
    "###############################################################################\n",
    "if __name__==\"__main__\":\n",
    "    selfAndInitDemo();"
   ]
  },
  {
   "cell_type": "code",
   "execution_count": 4,
   "metadata": {},
   "outputs": [
    {
     "name": "stdout",
     "output_type": "stream",
     "text": [
      "My name is class global name\n",
      "name within class Person is actually the global name: whole global name\n",
      "only access Person's name via Person.name=class global name\n",
      "whole global name is whole global name\n"
     ]
    }
   ],
   "source": [
    "selfAndInitDemo()"
   ]
  },
  {
   "cell_type": "code",
   "execution_count": 31,
   "metadata": {},
   "outputs": [
    {
     "name": "stdout",
     "output_type": "stream",
     "text": [
      "First time: 7\n",
      "duplicate: 7\n",
      "duplicate: 1\n",
      "duplicate: 9\n",
      "duplicate: 7\n",
      "final id 6\n"
     ]
    }
   ],
   "source": [
    "import random\n",
    "\n",
    "list = [1,2,3,5,7,9]\n",
    "id = random.randint(0,10)\n",
    "print(f\"First time: {id}\")\n",
    "while id in list:\n",
    "    print(f'duplicate: {id}')\n",
    "    id = random.randint(0,10)\n",
    "print(f'final id {id}')"
   ]
  }
 ],
 "metadata": {
  "kernelspec": {
   "display_name": "monash",
   "language": "python",
   "name": "python3"
  },
  "language_info": {
   "codemirror_mode": {
    "name": "ipython",
    "version": 3
   },
   "file_extension": ".py",
   "mimetype": "text/x-python",
   "name": "python",
   "nbconvert_exporter": "python",
   "pygments_lexer": "ipython3",
   "version": "3.7.16"
  },
  "orig_nbformat": 4
 },
 "nbformat": 4,
 "nbformat_minor": 2
}
