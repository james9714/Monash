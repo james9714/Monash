{
 "cells": [
  {
   "cell_type": "code",
   "execution_count": 51,
   "metadata": {},
   "outputs": [],
   "source": [
    "from car import Car\n",
    "\n"
   ]
  },
  {
   "cell_type": "code",
   "execution_count": 57,
   "metadata": {},
   "outputs": [],
   "source": [
    "with open('..\\data\\stock.txt','r',encoding='utf-8') as f:\n",
    "    data = f.readlines()\n",
    "data = [x.strip().split(', ') for x in data]\n",
    "\n",
    "flag = False\n",
    "for idx in range(len(data)):\n",
    "    line_id = data[idx][0]\n",
    "    if int(line_id) == 88727858:\n",
    "        temp = [i.strip(\"\\[\\]\\'\") for i in data[idx][6:]]\n",
    "        new_car_list = []\n",
    "        for i in range(0,len(temp),6):\n",
    "            if temp[i] == '':\n",
    "                flag = True\n",
    "            else:\n",
    "                car_info = ', '.join(temp[i:i+6])\n",
    "                new_car_list.append(car_info)\n",
    "        data[idx] = data[idx][:6] + str(new_car_list).split(', ')\n",
    "        \n",
    "with open('..\\data\\stock.txt','w',encoding='utf-8') as f:\n",
    "    for line in data:\n",
    "        f.write(', '.join(line)+'\\n')\n"
   ]
  },
  {
   "cell_type": "code",
   "execution_count": 1,
   "metadata": {},
   "outputs": [
    {
     "data": {
      "text/plain": [
       "[<car.Car at 0x25213e64590>,\n",
       " <car.Car at 0x25213c24dd0>,\n",
       " <car.Car at 0x25213e645d0>,\n",
       " <car.Car at 0x25213e64610>]"
      ]
     },
     "execution_count": 1,
     "metadata": {},
     "output_type": "execute_result"
    }
   ],
   "source": [
    "from car import Car\n",
    "\n",
    "with open('..\\data\\stock.txt', 'r', encoding='utf-8') as f:\n",
    "    stocks = f.readlines()\n",
    "stocks = [x.strip().split(', ') for x in stocks]\n",
    "\n",
    "for stock in stocks:\n",
    "    if int(stock[0]) == 27913040:\n",
    "        # get the car information\n",
    "        # remove the [ ] and ' in the string\n",
    "        car_info_list = []\n",
    "        for car_info in stock[6:]:\n",
    "            car_info = car_info.strip(\"\\[\\]\\'\") \n",
    "            car_info_list.append(car_info)\n",
    "\n",
    "car_obj_list = []\n",
    "for i in range(0,len(car_info_list),6):\n",
    "    car_obj = Car(car_info_list[i], car_info_list[i+1], car_info_list[i+2], car_info_list[i+3], car_info_list[i+4], car_info_list[i+5])\n",
    "    car_obj_list.append(car_obj)\n",
    "car_obj_list"
   ]
  },
  {
   "cell_type": "code",
   "execution_count": 25,
   "metadata": {},
   "outputs": [
    {
     "name": "stdout",
     "output_type": "stream",
     "text": [
      "27913040, CarMax, Southern Cross Station Docklands, VIC3008, (9, 17)['BC507177['BC507177['BC507177['BC507177, BMW, 7, 250, 4500, AWD', 'EE746842, Toyota, 4, 200, 3500, RWD', 'BA128331, BMW, 5, 150, 3000, FWD', 'DA353051, Toyota, 5, 250, 4000, AWD']\n",
      "61770219, Carvana, 151 Whitehorse Rd Blackburn, VIC3130, (10, 20), ['EE457407, Toyota, 7, 200, 3500, AWD', 'DE061395, BMW, 4, 150, 4500, RWD', 'BB098747, Volvo, 7, 150, 4000, AWD', 'AB845224, Honda, 5, 200, 4500, FWD']\n",
      "\n",
      "54106334, Vroom, 2137 Princes Hwy Clayton, VIC3168, (8, 22), ['CA738178, Mercedes, 5, 250, 4000, RWD', 'DE638083, Honda, 5, 250, 3500, AWD', 'DC063055, Mercedes, 7, 200, 3500, AWD', 'BC989937, Toyota, 7, 200, 3500, AWD']\n",
      "\n"
     ]
    }
   ],
   "source": [
    "with open('..\\data\\stock.txt', 'r', encoding='utf-8') as f:\n",
    "    stocks = f.readlines()\n",
    "\n",
    "flag = False\n",
    "for idx in range(len(stocks)):\n",
    "    line_id = stocks[idx]\n",
    "\n",
    "    if int(line_id[:8]) == int(27913040):\n",
    "        \n",
    "        cars = car_obj_list\n",
    "        for car in cars:\n",
    "            if  car.car_code == 'BA201493':\n",
    "                flag = True\n",
    "            else:\n",
    "               stock_cars = [car.__str__() for car in cars]\n",
    "            \n",
    "            stocks[idx] = ', '.join(stocks[idx].strip().split(', ')[:6]) + str(stock_cars) \n",
    "for i in stocks:\n",
    "    print(i)"
   ]
  },
  {
   "cell_type": "code",
   "execution_count": 23,
   "metadata": {},
   "outputs": [],
   "source": [
    "import datetime,random\n",
    "random_str = []\n",
    "for i in range(6):\n",
    "    random_str.append(chr(random.randint(97,122)))\n",
    "\n",
    "for i in range(1,len(random_str),2):\n",
    "    random_str[i] = random_str[i].upper()\n",
    "\n",
    "str_convert_num = [(ord(v)**2)%9 for v in random_str]\n",
    "\n",
    "\n",
    "str_1 = \"~!@#$%^&*\"\n",
    "symbol_res = ''\n",
    "for i in range(len(str_convert_num)):\n",
    "    symbol_res += i * str_1[str_convert_num[i]]\n",
    "\n",
    "order_time = str(int(datetime.datetime.now().timestamp()))\n",
    "\n",
    "generate_id = ''.join(random_str) + symbol_res + order_time\n"
   ]
  },
  {
   "cell_type": "code",
   "execution_count": 12,
   "metadata": {},
   "outputs": [
    {
     "data": {
      "text/plain": [
       "[67557786, 37544042, 61437275]"
      ]
     },
     "execution_count": 12,
     "metadata": {},
     "output_type": "execute_result"
    }
   ],
   "source": [
    "# Generate three random 8-digit numbers\n",
    "eight_digit_numbers = [random.randint(10000000, 99999999) for _ in range(3)]\n",
    "eight_digit_numbers"
   ]
  },
  {
   "cell_type": "code",
   "execution_count": 20,
   "metadata": {},
   "outputs": [
    {
     "data": {
      "text/plain": [
       "['BB141874, BMW, 5, 250, 4500, FWD',\n",
       " 'ED144211, Mercedes, 7, 250, 3500, AWD',\n",
       " 'EC591878, Chevrolet, 7, 200, 4000, FWD',\n",
       " 'AC982724, Mercedes, 5, 200, 4500, RWD',\n",
       " 'BE579661, Ford, 7, 200, 4000, FWD',\n",
       " 'DC864721, BMW, 4, 200, 4000, RWD',\n",
       " 'BA511960, Honda, 4, 300, 3500, RWD',\n",
       " 'ED501465, BMW, 5, 200, 3500, RWD',\n",
       " 'AE919008, BMW, 7, 200, 3000, RWD',\n",
       " 'AB089180, Toyota, 7, 150, 4000, FWD',\n",
       " 'BD587481, Honda, 5, 300, 4500, AWD',\n",
       " 'BD317277, Ford, 5, 300, 4000, RWD']"
      ]
     },
     "execution_count": 20,
     "metadata": {},
     "output_type": "execute_result"
    }
   ],
   "source": [
    "car_names = [\"Toyota\", \"Honda\", \"Ford\", \"Chevrolet\", \"BMW\", \"Mercedes\"]\n",
    "car_capacities = [4, 5, 7]\n",
    "car_horsepowers = [150, 200, 250, 300]\n",
    "car_weights = [3000, 3500, 4000, 4500]\n",
    "car_types = [\"FWD\", \"RWD\", \"AWD\"]\n",
    "\n",
    "# Generate 12 unique random car codes\n",
    "used_codes = set()\n",
    "unique_car_codes = []\n",
    "while len(unique_car_codes) < 12:\n",
    "    code = ''.join(random.choice(['A','B','C','D','E']) for _ in range(2)) +\\\n",
    "        ''.join(random.choice([str(i) for i in range(0,10)]) for _ in range(6))\n",
    "    if code not in used_codes:\n",
    "        used_codes.add(code)\n",
    "        unique_car_codes.append(code)\n",
    "\n",
    "# Generate 12 random cars\n",
    "cars = []\n",
    "for i in range(12):\n",
    "    cars.append([unique_car_codes[i], random.choice(car_names), \\\n",
    "        random.choice(car_capacities),random.choice(car_horsepowers), \\\n",
    "        random.choice(car_weights), random.choice(car_types)])\n",
    "cars = [', '.join([str(v) for v in car]) for car in cars]\n",
    "cars"
   ]
  },
  {
   "cell_type": "code",
   "execution_count": 35,
   "metadata": {},
   "outputs": [
    {
     "name": "stdout",
     "output_type": "stream",
     "text": [
      "[\"43815209, CarMax, Southern Cross Station Docklands, VIC3008, (9, 17), ['AE627761, Mercedes, 5, 200, 3500, AWD', 'DE568227, BMW, 5, 150, 3000, RWD', 'BD250246, BMW, 4, 200, 3500, RWD', 'AA786209, Honda, 7, 250, 4000, RWD']\", \"68204600, Carvana, 151 Whitehorse Rd Blackburn, VIC3130, (10, 20), ['EE543229, Chevrolet, 4, 250, 4500, FWD', 'CE177438, BMW, 5, 200, 3500, AWD', 'DA796578, Chevrolet, 7, 200, 3000, RWD', 'CE898601, Ford, 7, 250, 3000, RWD']\", \"42344184, Vroom, 2137 Princes Hwy Clayton, VIC3168, (8, 22), ['CD228895, Honda, 7, 250, 3500, RWD', 'BD284182, Toyota, 5, 300, 4000, RWD', 'BB535466, Ford, 4, 200, 3000, AWD', 'EB593179, Honda, 5, 150, 3000, AWD']\"]\n"
     ]
    }
   ],
   "source": [
    "car_names = [\"Toyota\", \"Honda\", \"Ford\", \"Chevrolet\", \"BMW\", \"Mercedes\"]\n",
    "car_capacities = [4, 5, 7]\n",
    "car_horsepowers = [150, 200, 250, 300]\n",
    "car_weights = [3000, 3500, 4000, 4500]\n",
    "car_types = [\"FWD\", \"RWD\", \"AWD\"]\n",
    "\n",
    "# Generate 12 unique random car codes\n",
    "used_codes = set()\n",
    "unique_car_codes = []\n",
    "while len(unique_car_codes) < 12:\n",
    "    code = ''.join(random.choice(['A','B','C','D','E']) for _ in range(2)) +\\\n",
    "        ''.join(random.choice([str(i) for i in range(0,10)]) for _ in range(6))\n",
    "    if code not in used_codes:\n",
    "        used_codes.add(code)\n",
    "        unique_car_codes.append(code)\n",
    "\n",
    "# Generate 12 random cars\n",
    "cars = []\n",
    "for i in range(12):\n",
    "    cars.append([unique_car_codes[i], random.choice(car_names), \\\n",
    "        random.choice(car_capacities),random.choice(car_horsepowers), \\\n",
    "        random.choice(car_weights), random.choice(car_types)])\n",
    "cars = [', '.join([str(v) for v in car]) for car in cars]\n",
    "\n",
    "# Generate three random 8-digit numbers\n",
    "retailer_ids = [random.randint(10000000, 99999999) for _ in range(3)]\n",
    "retailer_names = [\"CarMax\", \"Carvana\", \"Vroom\"]\n",
    "retailers_addresses = ['Southern Cross Station Docklands, VIC3008', \\\n",
    "                    '151 Whitehorse Rd Blackburn, VIC3130',\\\n",
    "                    '2137 Princes Hwy Clayton, VIC3168']\n",
    "retailer_hour =[(9,17),(10,20),(8,22)]\n",
    "\n",
    "file = []\n",
    "# Generate 3 stock records\n",
    "for i in range(3):\n",
    "    stock = [retailer_ids[i], retailer_names[i], \\\n",
    "            retailers_addresses[i], retailer_hour[i], \\\n",
    "            cars[i*4:i*4+4]]\n",
    "    stock = ', '.join([str(v) for v in stock])\n",
    "    file.append(stock)\n",
    "\n",
    "with open('../data/stock1.txt', 'w') as f:\n",
    "    for line in file:\n",
    "        f.write(line + '\\n')"
   ]
  },
  {
   "cell_type": "code",
   "execution_count": 50,
   "metadata": {},
   "outputs": [
    {
     "name": "stdout",
     "output_type": "stream",
     "text": [
      "43815209, CarMax, Southern Cross Station Docklands, VIC3008, (9, 17), ['AE627761', 'DE568227', 'BD250246', 'AA786209']\n",
      "68204600, Carvana, 151 Whitehorse Rd Blackburn, VIC3130, (10, 20), ['EE543229', 'CE177438', 'DA796578', 'CE898601']\n",
      "42344184, Vroom, 2137 Princes Hwy Clayton, VIC3168, (8, 22), ['CD228895', 'BD284182', 'BB535466', 'EB593179']\n"
     ]
    }
   ],
   "source": [
    "from car_retailer import CarRetailer\n",
    "stock_file_path ='../data/stock1.txt'\n",
    "with open(stock_file_path, 'r',encoding='utf-8') as f:\n",
    "    stock = f.readlines()\n",
    "stock = [line.strip().split(', ') for line in stock]\n",
    "\n",
    "carretailer_list = []\n",
    "for line in stock:\n",
    "    retailer_id = line[0]\n",
    "    retailer_name = line[1]\n",
    "    retailers_addresses = line[2]+', '+line[3]\n",
    "    retailer_hour = line[4]+', '+line[5]\n",
    "    carretailer_stock = [i.strip(\"\\[\\]\\'\") for i in line[6:]][0::6]\n",
    "    carretailer = CarRetailer(retailer_id, retailer_name, retailers_addresses, retailer_hour, carretailer_stock)\n",
    "    carretailer_list.append(carretailer)\n",
    "for i in carretailer_list:\n",
    "    print(i)"
   ]
  },
  {
   "cell_type": "code",
   "execution_count": 74,
   "metadata": {},
   "outputs": [
    {
     "data": {
      "text/plain": [
       "['FWD', 'RWD']"
      ]
     },
     "execution_count": 74,
     "metadata": {},
     "output_type": "execute_result"
    }
   ],
   "source": [
    "input_cus = '32'\n",
    "value =  [i for i in input_cus ]\n",
    "type_list = [\"AWD\", \"RWD\",\"FWD\"]\n",
    "\n",
    "value = [type_list[int(i)-1] for i in value]\n",
    "value"
   ]
  },
  {
   "cell_type": "code",
   "execution_count": 5,
   "metadata": {},
   "outputs": [
    {
     "data": {
      "text/plain": [
       "[<car.Car at 0x1f55e0e0d48>,\n",
       " <car.Car at 0x1f55e0e0d08>,\n",
       " <car.Car at 0x1f55e0e0d88>,\n",
       " <car.Car at 0x1f55e0e0e08>]"
      ]
     },
     "execution_count": 5,
     "metadata": {},
     "output_type": "execute_result"
    }
   ],
   "source": [
    "from car import Car\n",
    "with open('..\\data\\stock.txt','r',encoding='utf-8') as f:\n",
    "    data = f.readlines()\n",
    "data = [x.strip().split(', ') for x in data]\n",
    "\n",
    "car_info_list = []\n",
    "for line in data:\n",
    "    line_id = line[0]\n",
    "    if int(line_id) == int(line[0]) :\n",
    "        temp = [i.strip(\"\\[\\]\\'\") for i in line[6:]]\n",
    "        # the logic is similar with the load_current_stock function\n",
    "        # but the difference is we need get all information of the car\n",
    "        car_info_list = [temp[i:i+6] for i in range(0, len(temp), 6)]\n",
    "\n",
    "car_obj_list = []\n",
    "# after get the car informartion, transfer it to object and save in a list\n",
    "for car_info in car_info_list:\n",
    "    car_obj_list.append(Car(car_info[0], car_info[1],int(car_info[2]), int(car_info[3]), car_info[4], car_info[5]))\n",
    "\n",
    "car_obj_list"
   ]
  },
  {
   "cell_type": "code",
   "execution_count": 3,
   "metadata": {},
   "outputs": [],
   "source": [
    "import random,string\n",
    "from retailer import Retailer"
   ]
  },
  {
   "cell_type": "code",
   "execution_count": 11,
   "metadata": {},
   "outputs": [
    {
     "ename": "KeyboardInterrupt",
     "evalue": "",
     "output_type": "error",
     "traceback": [
      "\u001b[1;31m---------------------------------------------------------------------------\u001b[0m",
      "\u001b[1;31mKeyboardInterrupt\u001b[0m                         Traceback (most recent call last)",
      "\u001b[1;32me:\\Coding\\Monash\\9136\\ass2 - copy\\Assignment 2 Template  Data\\RENAME-ME\\test.ipynb 单元格 13\u001b[0m line \u001b[0;36m3\n\u001b[0;32m     <a href='vscode-notebook-cell:/e%3A/Coding/Monash/9136/ass2%20-%20copy/Assignment%202%20Template%20%20Data/RENAME-ME/test.ipynb#X15sZmlsZQ%3D%3D?line=29'>30</a>\u001b[0m retailer \u001b[39m=\u001b[39mRetailer(\u001b[39m-\u001b[39m\u001b[39m1\u001b[39m,retailer_names[i])\n\u001b[0;32m     <a href='vscode-notebook-cell:/e%3A/Coding/Monash/9136/ass2%20-%20copy/Assignment%202%20Template%20%20Data/RENAME-ME/test.ipynb#X15sZmlsZQ%3D%3D?line=30'>31</a>\u001b[0m retailers\u001b[39m.\u001b[39mappend(retailer)\n\u001b[1;32m---> <a href='vscode-notebook-cell:/e%3A/Coding/Monash/9136/ass2%20-%20copy/Assignment%202%20Template%20%20Data/RENAME-ME/test.ipynb#X15sZmlsZQ%3D%3D?line=31'>32</a>\u001b[0m retailer\u001b[39m.\u001b[39mgenerate_retailer_id(retailers)\n\u001b[0;32m     <a href='vscode-notebook-cell:/e%3A/Coding/Monash/9136/ass2%20-%20copy/Assignment%202%20Template%20%20Data/RENAME-ME/test.ipynb#X15sZmlsZQ%3D%3D?line=33'>34</a>\u001b[0m stock \u001b[39m=\u001b[39m [retailer\u001b[39m.\u001b[39mretailer_id, retailer\u001b[39m.\u001b[39mretailer_name, \\\n\u001b[0;32m     <a href='vscode-notebook-cell:/e%3A/Coding/Monash/9136/ass2%20-%20copy/Assignment%202%20Template%20%20Data/RENAME-ME/test.ipynb#X15sZmlsZQ%3D%3D?line=34'>35</a>\u001b[0m         retailers_addresses[i], retailer_hour[i], \\\n\u001b[0;32m     <a href='vscode-notebook-cell:/e%3A/Coding/Monash/9136/ass2%20-%20copy/Assignment%202%20Template%20%20Data/RENAME-ME/test.ipynb#X15sZmlsZQ%3D%3D?line=35'>36</a>\u001b[0m         cars[i\u001b[39m*\u001b[39m\u001b[39m4\u001b[39m:i\u001b[39m*\u001b[39m\u001b[39m4\u001b[39m\u001b[39m+\u001b[39m\u001b[39m4\u001b[39m]]\n\u001b[0;32m     <a href='vscode-notebook-cell:/e%3A/Coding/Monash/9136/ass2%20-%20copy/Assignment%202%20Template%20%20Data/RENAME-ME/test.ipynb#X15sZmlsZQ%3D%3D?line=36'>37</a>\u001b[0m stock \u001b[39m=\u001b[39m \u001b[39m'\u001b[39m\u001b[39m, \u001b[39m\u001b[39m'\u001b[39m\u001b[39m.\u001b[39mjoin([\u001b[39mstr\u001b[39m(v) \u001b[39mfor\u001b[39;00m v \u001b[39min\u001b[39;00m stock])\n",
      "File \u001b[1;32me:\\Coding\\Monash\\9136\\ass2 - copy\\Assignment 2 Template  Data\\RENAME-ME\\retailer.py:21\u001b[0m, in \u001b[0;36mRetailer.generate_retailer_id\u001b[1;34m(self, list_of_retailers)\u001b[0m\n\u001b[0;32m     17\u001b[0m existing_retailer_ids \u001b[39m=\u001b[39m [\n\u001b[0;32m     18\u001b[0m     retailer\u001b[39m.\u001b[39mretailer_id \u001b[39mfor\u001b[39;00m retailer \u001b[39min\u001b[39;00m list_of_retailers]\n\u001b[0;32m     19\u001b[0m \u001b[39mwhile\u001b[39;00m \u001b[39mTrue\u001b[39;00m:\n\u001b[0;32m     20\u001b[0m     \u001b[39m# Generate a random 8 digit number as the retailer id\u001b[39;00m\n\u001b[1;32m---> 21\u001b[0m     \u001b[39mid\u001b[39m \u001b[39m=\u001b[39m random\u001b[39m.\u001b[39mrandint(\u001b[39m10000000\u001b[39m, \u001b[39m99999999\u001b[39m)\n\u001b[0;32m     22\u001b[0m     \u001b[39mif\u001b[39;00m \u001b[39mid\u001b[39m \u001b[39mnot\u001b[39;00m \u001b[39min\u001b[39;00m existing_retailer_ids:\n\u001b[0;32m     23\u001b[0m         \u001b[39mself\u001b[39m\u001b[39m.\u001b[39mretailer_id \u001b[39m=\u001b[39m \u001b[39mid\u001b[39m\n",
      "File \u001b[1;32md:\\anaconda3\\Lib\\random.py:362\u001b[0m, in \u001b[0;36mRandom.randint\u001b[1;34m(self, a, b)\u001b[0m\n\u001b[0;32m    358\u001b[0m \u001b[39mdef\u001b[39;00m \u001b[39mrandint\u001b[39m(\u001b[39mself\u001b[39m, a, b):\n\u001b[0;32m    359\u001b[0m \u001b[39m    \u001b[39m\u001b[39m\"\"\"Return random integer in range [a, b], including both end points.\u001b[39;00m\n\u001b[0;32m    360\u001b[0m \u001b[39m    \"\"\"\u001b[39;00m\n\u001b[1;32m--> 362\u001b[0m     \u001b[39mreturn\u001b[39;00m \u001b[39mself\u001b[39m\u001b[39m.\u001b[39mrandrange(a, b\u001b[39m+\u001b[39m\u001b[39m1\u001b[39m)\n",
      "File \u001b[1;32md:\\anaconda3\\Lib\\random.py:330\u001b[0m, in \u001b[0;36mRandom.randrange\u001b[1;34m(self, start, stop, step)\u001b[0m\n\u001b[0;32m    328\u001b[0m width \u001b[39m=\u001b[39m istop \u001b[39m-\u001b[39m istart\n\u001b[0;32m    329\u001b[0m \u001b[39mtry\u001b[39;00m:\n\u001b[1;32m--> 330\u001b[0m     istep \u001b[39m=\u001b[39m _index(step)\n\u001b[0;32m    331\u001b[0m \u001b[39mexcept\u001b[39;00m \u001b[39mTypeError\u001b[39;00m:\n\u001b[0;32m    332\u001b[0m     istep \u001b[39m=\u001b[39m \u001b[39mint\u001b[39m(step)\n",
      "\u001b[1;31mKeyboardInterrupt\u001b[0m: "
     ]
    }
   ],
   "source": [
    "car_capacities = [4, 5, 7]\n",
    "car_horsepowers = [150, 200, 250, 300]\n",
    "car_weights = [3000, 3500, 4000, 4500]\n",
    "car_types = [\"FWD\", \"RWD\", \"AWD\"]\n",
    "\n",
    "cars= []\n",
    "while len(cars) < 12:\n",
    "    car_code = ''.join(random.choices(string.ascii_uppercase,k=2)) +\\\n",
    "        ''.join(random.choice([str(i) for i in range(0,10)]) for _ in range(6))\n",
    "    car_names = ''.join(random.choices(string.ascii_letters, k=6))\n",
    "\n",
    "    cars.append([car_code, car_names, \\\n",
    "        random.choice(car_capacities),random.choice(car_horsepowers), \\\n",
    "        random.choice(car_weights), random.choice(car_types)])\n",
    "cars = [', '.join([str(v) for v in car]) for car in cars]\n",
    "\n",
    "# Generate three random 8-digit numbers\n",
    "# retailer_ids = [random.randint(10000000, 99999999) for _ in range(3)]\n",
    "retailer_names = [\"Flyby\", \"Vecent\", \"Coles\"]\n",
    "retailers_addresses = [\n",
    "    'Lonsdale St Melbourne City, VIC3000', \\\n",
    "    'Whitehorse Rd Blackburn, VIC3130',\\\n",
    "    'Clayton Rd Clayton, VIC3170']\n",
    "retailer_hour =[(9,20),(10,22),(8,22)]\n",
    "\n",
    "stocks = []\n",
    "retailers = []\n",
    "# Generate 3 stock records\n",
    "for i in range(3):\n",
    "    retailer =Retailer(-1,retailer_names[i])\n",
    "    retailers.append(retailer)\n",
    "    retailer.generate_retailer_id(retailers)\n",
    "\n",
    "    stock = [retailer.retailer_id, retailer.retailer_name, \\\n",
    "            retailers_addresses[i], retailer_hour[i], \\\n",
    "            cars[i*4:i*4+4]]\n",
    "    stock = ', '.join([str(v) for v in stock])\n",
    "    stocks.append(stock)\n",
    "print(stocks)\n",
    "with open('../data/stock.txt', 'w') as f:\n",
    "    for line in stocks:\n",
    "        f.write(line + '\\n')"
   ]
  },
  {
   "cell_type": "code",
   "execution_count": 4,
   "metadata": {},
   "outputs": [
    {
     "name": "stdout",
     "output_type": "stream",
     "text": [
      "[-1]\n",
      "45421108\n"
     ]
    }
   ],
   "source": [
    "existing_retailer_ids = [\n",
    "    -1]\n",
    "print(existing_retailer_ids)\n",
    "while True:\n",
    "    # Generate a random 8 digit number as the retailer id\n",
    "    id = random.randint(10000000, 99999999)\n",
    "    if id not in existing_retailer_ids:\n",
    "        print(id)\n",
    "        break\n"
   ]
  }
 ],
 "metadata": {
  "kernelspec": {
   "display_name": "monash",
   "language": "python",
   "name": "python3"
  },
  "language_info": {
   "codemirror_mode": {
    "name": "ipython",
    "version": 3
   },
   "file_extension": ".py",
   "mimetype": "text/x-python",
   "name": "python",
   "nbconvert_exporter": "python",
   "pygments_lexer": "ipython3",
   "version": "3.11.4"
  },
  "orig_nbformat": 4
 },
 "nbformat": 4,
 "nbformat_minor": 2
}
