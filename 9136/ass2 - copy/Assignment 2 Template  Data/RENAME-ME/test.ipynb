{
 "cells": [
  {
   "cell_type": "code",
   "execution_count": 51,
   "metadata": {},
   "outputs": [],
   "source": [
    "from car import Car\n",
    "\n"
   ]
  },
  {
   "cell_type": "code",
   "execution_count": 57,
   "metadata": {},
   "outputs": [],
   "source": [
    "with open('..\\data\\stock.txt','r',encoding='utf-8') as f:\n",
    "    data = f.readlines()\n",
    "data = [x.strip().split(', ') for x in data]\n",
    "\n",
    "flag = False\n",
    "for idx in range(len(data)):\n",
    "    line_id = data[idx][0]\n",
    "    if int(line_id) == 88727858:\n",
    "        temp = [i.strip(\"\\[\\]\\'\") for i in data[idx][6:]]\n",
    "        new_car_list = []\n",
    "        for i in range(0,len(temp),6):\n",
    "            if temp[i] == '':\n",
    "                flag = True\n",
    "            else:\n",
    "                car_info = ', '.join(temp[i:i+6])\n",
    "                new_car_list.append(car_info)\n",
    "        data[idx] = data[idx][:6] + str(new_car_list).split(', ')\n",
    "        \n",
    "with open('..\\data\\stock.txt','w',encoding='utf-8') as f:\n",
    "    for line in data:\n",
    "        f.write(', '.join(line)+'\\n')\n"
   ]
  },
  {
   "cell_type": "code",
   "execution_count": null,
   "metadata": {},
   "outputs": [],
   "source": []
  },
  {
   "cell_type": "code",
   "execution_count": 9,
   "metadata": {},
   "outputs": [
    {
     "ename": "FileNotFoundError",
     "evalue": "[Errno 2] No such file or directory: 'ass2 - copy/Assignment 2 Template  Data/data/stock.txt'",
     "output_type": "error",
     "traceback": [
      "\u001b[1;31m---------------------------------------------------------------------------\u001b[0m",
      "\u001b[1;31mFileNotFoundError\u001b[0m                         Traceback (most recent call last)",
      "\u001b[1;32m~\\AppData\\Local\\Temp\\ipykernel_54720\\1023382375.py\u001b[0m in \u001b[0;36m<module>\u001b[1;34m\u001b[0m\n\u001b[1;32m----> 1\u001b[1;33m \u001b[1;32mwith\u001b[0m \u001b[0mopen\u001b[0m\u001b[1;33m(\u001b[0m\u001b[1;34m'ass2 - copy/Assignment 2 Template  Data/data/stock.txt'\u001b[0m\u001b[1;33m)\u001b[0m \u001b[1;32mas\u001b[0m \u001b[0mf\u001b[0m\u001b[1;33m:\u001b[0m\u001b[1;33m\u001b[0m\u001b[1;33m\u001b[0m\u001b[0m\n\u001b[0m\u001b[0;32m      2\u001b[0m     \u001b[0mdata\u001b[0m \u001b[1;33m=\u001b[0m \u001b[0mf\u001b[0m\u001b[1;33m.\u001b[0m\u001b[0mreadlines\u001b[0m\u001b[1;33m(\u001b[0m\u001b[1;33m)\u001b[0m\u001b[1;33m\u001b[0m\u001b[1;33m\u001b[0m\u001b[0m\n\u001b[0;32m      3\u001b[0m \u001b[0mdata\u001b[0m \u001b[1;33m=\u001b[0m \u001b[1;33m[\u001b[0m\u001b[0mx\u001b[0m\u001b[1;33m.\u001b[0m\u001b[0mstrip\u001b[0m\u001b[1;33m(\u001b[0m\u001b[1;33m)\u001b[0m\u001b[1;33m.\u001b[0m\u001b[0msplit\u001b[0m\u001b[1;33m(\u001b[0m\u001b[1;34m', '\u001b[0m\u001b[1;33m)\u001b[0m \u001b[1;32mfor\u001b[0m \u001b[0mx\u001b[0m \u001b[1;32min\u001b[0m \u001b[0mdata\u001b[0m\u001b[1;33m]\u001b[0m\u001b[1;33m\u001b[0m\u001b[1;33m\u001b[0m\u001b[0m\n\u001b[0;32m      4\u001b[0m \u001b[1;32mfor\u001b[0m \u001b[0mline\u001b[0m \u001b[1;32min\u001b[0m \u001b[0mdata\u001b[0m\u001b[1;33m:\u001b[0m\u001b[1;33m\u001b[0m\u001b[1;33m\u001b[0m\u001b[0m\n\u001b[0;32m      5\u001b[0m     \u001b[0mprint\u001b[0m\u001b[1;33m(\u001b[0m\u001b[0mline\u001b[0m\u001b[1;33m)\u001b[0m\u001b[1;33m\u001b[0m\u001b[1;33m\u001b[0m\u001b[0m\n",
      "\u001b[1;31mFileNotFoundError\u001b[0m: [Errno 2] No such file or directory: 'ass2 - copy/Assignment 2 Template  Data/data/stock.txt'"
     ]
    }
   ],
   "source": []
  },
  {
   "cell_type": "code",
   "execution_count": 60,
   "metadata": {},
   "outputs": [
    {
     "name": "stdout",
     "output_type": "stream",
     "text": [
      "$~~$$$$$$$!!!!!\n"
     ]
    }
   ],
   "source": [
    "import datetime,random\n",
    "random_str = []\n",
    "for i in range(6):\n",
    "    random_str.append(chr(random.randint(97,122)))\n",
    "\n",
    "for i in range(1,len(random_str),2):\n",
    "    random_str[i] = random_str[i].upper()\n",
    "\n",
    "str_convert_num = [(ord(v)**2)%9 for v in random_str]\n",
    "\n",
    "\n",
    "str_1 = \"~!@#$%^&*\"\n",
    "symbol_res = ''\n",
    "for i in range(len(str_convert_num)):\n",
    "    symbol_res += i * str_1[str_convert_num[i]]\n",
    "\n",
    "order_time = str(int(datetime.datetime.now().timestamp()))\n",
    "\n",
    "generate_id = ''.join(random_str) + symbol_res + order_time\n"
   ]
  },
  {
   "cell_type": "code",
   "execution_count": 12,
   "metadata": {},
   "outputs": [
    {
     "data": {
      "text/plain": [
       "[67557786, 37544042, 61437275]"
      ]
     },
     "execution_count": 12,
     "metadata": {},
     "output_type": "execute_result"
    }
   ],
   "source": [
    "# Generate three random 8-digit numbers\n",
    "eight_digit_numbers = [random.randint(10000000, 99999999) for _ in range(3)]\n",
    "eight_digit_numbers"
   ]
  },
  {
   "cell_type": "code",
   "execution_count": 20,
   "metadata": {},
   "outputs": [
    {
     "data": {
      "text/plain": [
       "['BB141874, BMW, 5, 250, 4500, FWD',\n",
       " 'ED144211, Mercedes, 7, 250, 3500, AWD',\n",
       " 'EC591878, Chevrolet, 7, 200, 4000, FWD',\n",
       " 'AC982724, Mercedes, 5, 200, 4500, RWD',\n",
       " 'BE579661, Ford, 7, 200, 4000, FWD',\n",
       " 'DC864721, BMW, 4, 200, 4000, RWD',\n",
       " 'BA511960, Honda, 4, 300, 3500, RWD',\n",
       " 'ED501465, BMW, 5, 200, 3500, RWD',\n",
       " 'AE919008, BMW, 7, 200, 3000, RWD',\n",
       " 'AB089180, Toyota, 7, 150, 4000, FWD',\n",
       " 'BD587481, Honda, 5, 300, 4500, AWD',\n",
       " 'BD317277, Ford, 5, 300, 4000, RWD']"
      ]
     },
     "execution_count": 20,
     "metadata": {},
     "output_type": "execute_result"
    }
   ],
   "source": [
    "car_names = [\"Toyota\", \"Honda\", \"Ford\", \"Chevrolet\", \"BMW\", \"Mercedes\"]\n",
    "car_capacities = [4, 5, 7]\n",
    "car_horsepowers = [150, 200, 250, 300]\n",
    "car_weights = [3000, 3500, 4000, 4500]\n",
    "car_types = [\"FWD\", \"RWD\", \"AWD\"]\n",
    "\n",
    "# Generate 12 unique random car codes\n",
    "used_codes = set()\n",
    "unique_car_codes = []\n",
    "while len(unique_car_codes) < 12:\n",
    "    code = ''.join(random.choice(['A','B','C','D','E']) for _ in range(2)) +\\\n",
    "        ''.join(random.choice([str(i) for i in range(0,10)]) for _ in range(6))\n",
    "    if code not in used_codes:\n",
    "        used_codes.add(code)\n",
    "        unique_car_codes.append(code)\n",
    "\n",
    "# Generate 12 random cars\n",
    "cars = []\n",
    "for i in range(12):\n",
    "    cars.append([unique_car_codes[i], random.choice(car_names), \\\n",
    "        random.choice(car_capacities),random.choice(car_horsepowers), \\\n",
    "        random.choice(car_weights), random.choice(car_types)])\n",
    "cars = [', '.join([str(v) for v in car]) for car in cars]\n",
    "cars"
   ]
  },
  {
   "cell_type": "code",
   "execution_count": 35,
   "metadata": {},
   "outputs": [
    {
     "name": "stdout",
     "output_type": "stream",
     "text": [
      "[\"43815209, CarMax, Southern Cross Station Docklands, VIC3008, (9, 17), ['AE627761, Mercedes, 5, 200, 3500, AWD', 'DE568227, BMW, 5, 150, 3000, RWD', 'BD250246, BMW, 4, 200, 3500, RWD', 'AA786209, Honda, 7, 250, 4000, RWD']\", \"68204600, Carvana, 151 Whitehorse Rd Blackburn, VIC3130, (10, 20), ['EE543229, Chevrolet, 4, 250, 4500, FWD', 'CE177438, BMW, 5, 200, 3500, AWD', 'DA796578, Chevrolet, 7, 200, 3000, RWD', 'CE898601, Ford, 7, 250, 3000, RWD']\", \"42344184, Vroom, 2137 Princes Hwy Clayton, VIC3168, (8, 22), ['CD228895, Honda, 7, 250, 3500, RWD', 'BD284182, Toyota, 5, 300, 4000, RWD', 'BB535466, Ford, 4, 200, 3000, AWD', 'EB593179, Honda, 5, 150, 3000, AWD']\"]\n"
     ]
    }
   ],
   "source": [
    "car_names = [\"Toyota\", \"Honda\", \"Ford\", \"Chevrolet\", \"BMW\", \"Mercedes\"]\n",
    "car_capacities = [4, 5, 7]\n",
    "car_horsepowers = [150, 200, 250, 300]\n",
    "car_weights = [3000, 3500, 4000, 4500]\n",
    "car_types = [\"FWD\", \"RWD\", \"AWD\"]\n",
    "\n",
    "# Generate 12 unique random car codes\n",
    "used_codes = set()\n",
    "unique_car_codes = []\n",
    "while len(unique_car_codes) < 12:\n",
    "    code = ''.join(random.choice(['A','B','C','D','E']) for _ in range(2)) +\\\n",
    "        ''.join(random.choice([str(i) for i in range(0,10)]) for _ in range(6))\n",
    "    if code not in used_codes:\n",
    "        used_codes.add(code)\n",
    "        unique_car_codes.append(code)\n",
    "\n",
    "# Generate 12 random cars\n",
    "cars = []\n",
    "for i in range(12):\n",
    "    cars.append([unique_car_codes[i], random.choice(car_names), \\\n",
    "        random.choice(car_capacities),random.choice(car_horsepowers), \\\n",
    "        random.choice(car_weights), random.choice(car_types)])\n",
    "cars = [', '.join([str(v) for v in car]) for car in cars]\n",
    "\n",
    "# Generate three random 8-digit numbers\n",
    "retailer_ids = [random.randint(10000000, 99999999) for _ in range(3)]\n",
    "retailer_names = [\"CarMax\", \"Carvana\", \"Vroom\"]\n",
    "retailers_addresses = ['Southern Cross Station Docklands, VIC3008', \\\n",
    "                    '151 Whitehorse Rd Blackburn, VIC3130',\\\n",
    "                    '2137 Princes Hwy Clayton, VIC3168']\n",
    "retailer_hour =[(9,17),(10,20),(8,22)]\n",
    "\n",
    "file = []\n",
    "# Generate 3 stock records\n",
    "for i in range(3):\n",
    "    stock = [retailer_ids[i], retailer_names[i], \\\n",
    "            retailers_addresses[i], retailer_hour[i], \\\n",
    "            cars[i*4:i*4+4]]\n",
    "    stock = ', '.join([str(v) for v in stock])\n",
    "    file.append(stock)\n",
    "\n",
    "with open('../data/stock1.txt', 'w') as f:\n",
    "    for line in file:\n",
    "        f.write(line + '\\n')"
   ]
  },
  {
   "cell_type": "code",
   "execution_count": 50,
   "metadata": {},
   "outputs": [
    {
     "name": "stdout",
     "output_type": "stream",
     "text": [
      "43815209, CarMax, Southern Cross Station Docklands, VIC3008, (9, 17), ['AE627761', 'DE568227', 'BD250246', 'AA786209']\n",
      "68204600, Carvana, 151 Whitehorse Rd Blackburn, VIC3130, (10, 20), ['EE543229', 'CE177438', 'DA796578', 'CE898601']\n",
      "42344184, Vroom, 2137 Princes Hwy Clayton, VIC3168, (8, 22), ['CD228895', 'BD284182', 'BB535466', 'EB593179']\n"
     ]
    }
   ],
   "source": [
    "from car_retailer import CarRetailer\n",
    "stock_file_path ='../data/stock1.txt'\n",
    "with open(stock_file_path, 'r',encoding='utf-8') as f:\n",
    "    stock = f.readlines()\n",
    "stock = [line.strip().split(', ') for line in stock]\n",
    "\n",
    "carretailer_list = []\n",
    "for line in stock:\n",
    "    retailer_id = line[0]\n",
    "    retailer_name = line[1]\n",
    "    retailers_addresses = line[2]+', '+line[3]\n",
    "    retailer_hour = line[4]+', '+line[5]\n",
    "    carretailer_stock = [i.strip(\"\\[\\]\\'\") for i in line[6:]][0::6]\n",
    "    carretailer = CarRetailer(retailer_id, retailer_name, retailers_addresses, retailer_hour, carretailer_stock)\n",
    "    carretailer_list.append(carretailer)\n",
    "for i in carretailer_list:\n",
    "    print(i)"
   ]
  },
  {
   "cell_type": "code",
   "execution_count": 74,
   "metadata": {},
   "outputs": [
    {
     "data": {
      "text/plain": [
       "['FWD', 'RWD']"
      ]
     },
     "execution_count": 74,
     "metadata": {},
     "output_type": "execute_result"
    }
   ],
   "source": [
    "input_cus = '32'\n",
    "value =  [i for i in input_cus ]\n",
    "type_list = [\"AWD\", \"RWD\",\"FWD\"]\n",
    "\n",
    "value = [type_list[int(i)-1] for i in value]\n",
    "value"
   ]
  },
  {
   "cell_type": "code",
   "execution_count": null,
   "metadata": {},
   "outputs": [],
   "source": []
  }
 ],
 "metadata": {
  "kernelspec": {
   "display_name": "monash",
   "language": "python",
   "name": "python3"
  },
  "language_info": {
   "codemirror_mode": {
    "name": "ipython",
    "version": 3
   },
   "file_extension": ".py",
   "mimetype": "text/x-python",
   "name": "python",
   "nbconvert_exporter": "python",
   "pygments_lexer": "ipython3",
   "version": "3.11.4"
  },
  "orig_nbformat": 4
 },
 "nbformat": 4,
 "nbformat_minor": 2
}
