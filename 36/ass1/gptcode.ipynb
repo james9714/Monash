{
 "cells": [
  {
   "cell_type": "code",
   "execution_count": 1,
   "metadata": {},
   "outputs": [],
   "source": [
    "def create_board(size):\n",
    "    # Initialize the board as a list of lists with unoccupied intersections\n",
    "    board = [[' ' for _ in range(size)] for _ in range(size)]\n",
    "    return board\n"
   ]
  },
  {
   "cell_type": "code",
   "execution_count": 3,
   "metadata": {},
   "outputs": [
    {
     "name": "stdout",
     "output_type": "stream",
     "text": [
      "[[' ', ' ', ' ', ' ', ' ', ' ', ' ', ' ', ' '], [' ', ' ', ' ', ' ', ' ', ' ', ' ', ' ', ' '], [' ', ' ', ' ', ' ', ' ', ' ', ' ', ' ', ' '], [' ', ' ', ' ', ' ', ' ', ' ', ' ', ' ', ' '], [' ', ' ', ' ', ' ', ' ', ' ', ' ', ' ', ' '], [' ', ' ', ' ', ' ', ' ', ' ', ' ', ' ', ' '], [' ', ' ', ' ', ' ', ' ', ' ', ' ', ' ', ' '], [' ', ' ', ' ', ' ', ' ', ' ', ' ', ' ', ' '], [' ', ' ', ' ', ' ', ' ', ' ', ' ', ' ', ' ']]\n"
     ]
    }
   ],
   "source": [
    "board_size = 9\n",
    "board = create_board(board_size)\n",
    "print(board)"
   ]
  },
  {
   "cell_type": "code",
   "execution_count": 4,
   "metadata": {},
   "outputs": [],
   "source": [
    "def is_occupied(board, x, y):\n",
    "    return board[x][y] != ' '"
   ]
  },
  {
   "cell_type": "code",
   "execution_count": 7,
   "metadata": {},
   "outputs": [
    {
     "name": "stdout",
     "output_type": "stream",
     "text": [
      "Position (0, 1) is occupied: False\n"
     ]
    }
   ],
   "source": [
    "board = [\n",
    "    ['X', ' ', 'O'],\n",
    "    [' ', 'O', 'X'],\n",
    "    ['X', 'O', ' ']\n",
    "]\n",
    "\n",
    "x = 0\n",
    "y = 1\n",
    "occupied = is_occupied(board, x, y)\n",
    "print(f\"Position ({x}, {y}) is occupied: {occupied}\")"
   ]
  },
  {
   "cell_type": "code",
   "execution_count": 15,
   "metadata": {},
   "outputs": [
    {
     "name": "stdout",
     "output_type": "stream",
     "text": [
      "   A B C \n",
      " 1 X   O \n",
      "   ------\n",
      " 2   O X \n",
      "   ------\n",
      " 3 X O   \n"
     ]
    }
   ],
   "source": [
    "def print_board(board):\n",
    "    size = len(board)\n",
    "\n",
    "    # Print column indices (A, B, C, ...)\n",
    "    print(\"   \", end=\"\")\n",
    "    for i in range(size):\n",
    "        print(chr(ord('A') + i), end=\" \")\n",
    "    print()\n",
    "\n",
    "    # Print board rows and separators\n",
    "    for i in range(size):\n",
    "        print(f\"{i+1:2d} \", end=\"\")\n",
    "        for j in range(size):\n",
    "            print(board[i][j], end=\" \")\n",
    "        print()\n",
    "        if i < size - 1:\n",
    "            print(\"   \" + \"--\" * size)\n",
    "\n",
    "# Example usage:\n",
    "board = [\n",
    "    ['X', ' ', 'O'],\n",
    "    [' ', 'O', 'X'],\n",
    "    ['X', 'O', ' ']\n",
    "]\n",
    "\n",
    "print_board(board)"
   ]
  },
  {
   "cell_type": "code",
   "execution_count": 18,
   "metadata": {},
   "outputs": [
    {
     "name": "stdout",
     "output_type": "stream",
     "text": [
      "O wins!\n"
     ]
    }
   ],
   "source": [
    "def check_for_winner(board):\n",
    "    size = len(board)\n",
    "\n",
    "    # Check rows and columns for a winner\n",
    "    for x in range(size):\n",
    "        for y in range(size):\n",
    "            stone = board[x][y]\n",
    "            if stone != ' ':\n",
    "                # Check horizontal\n",
    "                if y + 4 < size and all(board[x][y+i] == stone for i in range(1, 5)):\n",
    "                    return stone\n",
    "\n",
    "                # Check vertical\n",
    "                if x + 4 < size and all(board[x+i][y] == stone for i in range(1, 5)):\n",
    "                    return stone\n",
    "\n",
    "                # Check diagonal (top-left to bottom-right)\n",
    "                if x + 4 < size and y + 4 < size and all(board[x+i][y+i] == stone for i in range(1, 5)):\n",
    "                    return stone\n",
    "\n",
    "                # Check diagonal (top-right to bottom-left)\n",
    "                if x + 4 < size and y - 4 >= 0 and all(board[x+i][y-i] == stone for i in range(1, 5)):\n",
    "                    return stone\n",
    "\n",
    "    # Check for a draw or ongoing game\n",
    "    available_moves = check_available_moves(board)\n",
    "    if len(available_moves) == 0:\n",
    "        return \"Draw\"\n",
    "    else:\n",
    "        return None\n",
    "\n",
    "# Example usage:\n",
    "board = [\n",
    "    ['X', ' ', 'O', ' ', 'O'],\n",
    "    ['X', 'X', 'O', 'O', 'X'],\n",
    "    [' ', 'X', 'O', 'O', 'X'],\n",
    "    [' ', ' ', 'O', 'O', 'X'],\n",
    "    ['X', 'X', 'O', 'X', 'O']\n",
    "]\n",
    "\n",
    "result = check_for_winner(board)\n",
    "if result == 'Draw':\n",
    "    print(\"It's a draw!\")\n",
    "elif result:\n",
    "    print(f\"{result} wins!\")\n",
    "else:\n",
    "    print(\"The game is still ongoing.\")\n",
    "\n"
   ]
  },
  {
   "cell_type": "code",
   "execution_count": 1,
   "metadata": {},
   "outputs": [
    {
     "name": "stdout",
     "output_type": "stream",
     "text": [
      "menu\n",
      "menu\n",
      "menu\n",
      "start game\n",
      "menu\n",
      "quit game\n"
     ]
    }
   ],
   "source": [
    "while True:\n",
    "    print('menu')\n",
    "    choice = input('Enter your choice: ')\n",
    "    if choice == '1':\n",
    "        print('start game')\n",
    "    elif choice == '2':\n",
    "        print('quit game')\n",
    "        break\n",
    "    else:\n",
    "        continue"
   ]
  }
 ],
 "metadata": {
  "kernelspec": {
   "display_name": "monash",
   "language": "python",
   "name": "python3"
  },
  "language_info": {
   "codemirror_mode": {
    "name": "ipython",
    "version": 3
   },
   "file_extension": ".py",
   "mimetype": "text/x-python",
   "name": "python",
   "nbconvert_exporter": "python",
   "pygments_lexer": "ipython3",
   "version": "3.7.16"
  },
  "orig_nbformat": 4
 },
 "nbformat": 4,
 "nbformat_minor": 2
}
